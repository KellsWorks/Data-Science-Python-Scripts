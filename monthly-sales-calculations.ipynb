{
 "cells": [
  {
   "cell_type": "code",
   "execution_count": 182,
   "id": "d11c21dd",
   "metadata": {},
   "outputs": [],
   "source": [
    "import pandas as pd\n",
    "from datetime import datetime\n",
    "import statistics"
   ]
  },
  {
   "cell_type": "code",
   "execution_count": 183,
   "id": "09da7f87",
   "metadata": {},
   "outputs": [],
   "source": [
    "dateparse = lambda x: datetime.strptime(x, '%d/%m/%Y')\n",
    "\n",
    "#importing csv file\n",
    "df = pd.read_csv('sales_data.csv', parse_dates=['date'], date_parser=dateparse)"
   ]
  },
  {
   "cell_type": "code",
   "execution_count": 184,
   "id": "fc6af654",
   "metadata": {},
   "outputs": [],
   "source": [
    "dl = df.groupby(df['date'].map(lambda x: x.month))"
   ]
  },
  {
   "cell_type": "code",
   "execution_count": 185,
   "id": "4b629866",
   "metadata": {},
   "outputs": [],
   "source": [
    "#prints the total sales\n",
    "\n",
    "total_sales = df['sales'].sum()"
   ]
  },
  {
   "cell_type": "code",
   "execution_count": 186,
   "id": "6040e7c6",
   "metadata": {},
   "outputs": [],
   "source": [
    "# creates 'sales_report.txt' file\n",
    "\n",
    "with open(\"sales_report.txt\", \"w\") as f:\n",
    "    f.write(\"Total Sales: {} \\n \\n\".format(total_sales))"
   ]
  },
  {
   "cell_type": "code",
   "execution_count": 187,
   "id": "abe0d7e4",
   "metadata": {},
   "outputs": [],
   "source": [
    "#groups the data by categories\n",
    "\n",
    "dl_categories = df.groupby('categories')['sales'].sum()\n"
   ]
  },
  {
   "cell_type": "code",
   "execution_count": 188,
   "id": "c7cb9175",
   "metadata": {},
   "outputs": [],
   "source": [
    "# get average per month\n",
    "average_sales_per_month = [january_sales, february_sales, march_sales]\n",
    "\n",
    "# append output into the text file\n",
    "with open(\"sales_report.txt\", \"a\") as f:\n",
    "    f.write(\"Average Sales per Month: {} \\n \\n\".format(statistics.mean(average_sales_per_month)))"
   ]
  },
  {
   "cell_type": "code",
   "execution_count": 198,
   "id": "bb54e96b",
   "metadata": {},
   "outputs": [],
   "source": [
    "#groups the data by date (month) then categories\n",
    "df_by_date = df.groupby(df['date'].dt.month)['sales'].sum()\n",
    "\n",
    "january_sales = df_by_date[1]\n",
    "february_sales = df_by_date[2]\n",
    "march_sales = df_by_date[3]\n",
    "\n",
    "df_monthly_sales_by_category = df.groupby([df['date'].dt.month, \"categories\"])['sales'].sum()\n",
    "\n",
    "max = df.groupby([df['date'].dt.month])['sales'].max()\n",
    "\n",
    "min = df.groupby([df['date'].dt.month])['sales'].min()\n",
    "\n",
    "# append output into the text file\n",
    "with open(\"sales_report.txt\", \"a\") as f:\n",
    "    f.write(\"January Sales: {} | Clothes: {} | Shoes: {} | Highest: {} | Lowest: {} \\n \\n\"\n",
    "      .format(january_sales, df_monthly_sales_by_category[1][0], df_monthly_sales_by_category[1][1],\n",
    "              max[1], min[1]\n",
    "             ))\n",
    "\n",
    "# append output into the text file\n",
    "with open(\"sales_report.txt\", \"a\") as f:\n",
    "    f.write(\"February Sales: {} | Clothes: {} | Shoes: {} | Highest: {} | Lowest: {} \\n \\n\"\n",
    "      .format(february_sales, df_monthly_sales_by_category[2][0], df_monthly_sales_by_category[2][1],\n",
    "              max[2], min[2]\n",
    "             ))\n",
    "    \n",
    "# append output into the text file\n",
    "with open(\"sales_report.txt\", \"a\") as f:\n",
    "    f.write(\"March Sales: {} | Clothes: {} | Shoes: {} | Highest: {} | Lowest: {} \\n \\n\"\n",
    "      .format(march_sales, df_monthly_sales_by_category[3][0], df_monthly_sales_by_category[3][1],\n",
    "              max[3], min[3]\n",
    "             ))"
   ]
  },
  {
   "cell_type": "code",
   "execution_count": 190,
   "id": "9f6e631e",
   "metadata": {},
   "outputs": [
    {
     "name": "stdout",
     "output_type": "stream",
     "text": [
      "Completed generating sales report!\n"
     ]
    }
   ],
   "source": [
    "# get product % for clothes\n",
    "\n",
    "clothes = dl_categories[0]\n",
    "shoes = dl_categories[1]\n",
    "\n",
    "products_total = clothes + shoes\n",
    "\n",
    "# append output into the text file\n",
    "with open(\"sales_report.txt\", \"a\") as f:\n",
    "    f.write(\"Sales by Product Category: \\n \\n Clothes: {} ({})% \\n \\n Shoes: {} ({})% \\n \\n\".format(clothes, (clothes / products_total) * 100, shoes, (shoes / products_total) * 100))\n",
    "    \n",
    "print(\"Completed generating sales report!\")"
   ]
  },
  {
   "cell_type": "code",
   "execution_count": null,
   "id": "6d4bede0",
   "metadata": {},
   "outputs": [],
   "source": []
  }
 ],
 "metadata": {
  "kernelspec": {
   "display_name": "Python 3 (ipykernel)",
   "language": "python",
   "name": "python3"
  },
  "language_info": {
   "codemirror_mode": {
    "name": "ipython",
    "version": 3
   },
   "file_extension": ".py",
   "mimetype": "text/x-python",
   "name": "python",
   "nbconvert_exporter": "python",
   "pygments_lexer": "ipython3",
   "version": "3.9.13"
  }
 },
 "nbformat": 4,
 "nbformat_minor": 5
}
