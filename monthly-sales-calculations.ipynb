{
 "cells": [
  {
   "cell_type": "code",
   "execution_count": 31,
   "id": "d11c21dd",
   "metadata": {},
   "outputs": [],
   "source": [
    "#importing packages\n",
    "\n",
    "import pandas as pd\n",
    "from datetime import datetime\n",
    "import statistics"
   ]
  },
  {
   "cell_type": "code",
   "execution_count": 32,
   "id": "09da7f87",
   "metadata": {},
   "outputs": [
    {
     "name": "stdout",
     "output_type": "stream",
     "text": [
      "        Date Category   Sales\n",
      "0 2016-08-01     Rice   40000\n",
      "1 2016-08-08    Beans   15000\n",
      "2 2016-08-20     Rice   10000\n",
      "3 2016-11-10    Beans   60000\n",
      "4 2016-11-19     Rice   12000\n",
      "5 2016-11-25     Rice    1000\n",
      "6 2016-12-30    Beans   13000\n",
      "7 2016-12-10     Rice   15000\n",
      "8 2016-12-12    Beans  100000\n"
     ]
    }
   ],
   "source": [
    "#lambda function for parsing date\n",
    "dateparse = lambda x: datetime.strptime(x, '%d/%m/%Y')\n",
    "\n",
    "#importing csv file\n",
    "df = pd.read_csv('Sales_report_Jessy.csv', parse_dates=['Date'], date_parser=dateparse)\n",
    "\n",
    "print(df)"
   ]
  },
  {
   "cell_type": "code",
   "execution_count": 33,
   "id": "fc6af654",
   "metadata": {},
   "outputs": [],
   "source": [
    "#testing grouping\n",
    "\n",
    "dl = df.groupby(df['Date'].map(lambda x: x.month))"
   ]
  },
  {
   "cell_type": "code",
   "execution_count": 34,
   "id": "9c60b5d4",
   "metadata": {},
   "outputs": [
    {
     "name": "stdout",
     "output_type": "stream",
     "text": [
      "Total Sales: 266000\n"
     ]
    }
   ],
   "source": [
    "#prints the total sales\n",
    "\n",
    "total_sales = df['Sales'].sum()\n",
    "\n",
    "print(\"Total Sales: {}\".format(total_sales))"
   ]
  },
  {
   "cell_type": "code",
   "execution_count": 35,
   "id": "e4915fca",
   "metadata": {},
   "outputs": [],
   "source": [
    "# creates 'sales_report.txt' file\n",
    "\n",
    "with open(\"sales_report.txt\", \"w\") as f:\n",
    "    f.write(\"Total Sales: {} \\n \\n\".format(total_sales))"
   ]
  },
  {
   "cell_type": "code",
   "execution_count": 36,
   "id": "0e7b5df7",
   "metadata": {},
   "outputs": [
    {
     "name": "stdout",
     "output_type": "stream",
     "text": [
      "Category\n",
      "Beans    188000\n",
      "Rice      78000\n",
      "Name: Sales, dtype: int64\n"
     ]
    }
   ],
   "source": [
    "#groups the data by categories and adding the sales per category\n",
    "\n",
    "dl_categories = df.groupby('Category')['Sales'].sum()\n",
    "\n",
    "print(dl_categories)"
   ]
  },
  {
   "cell_type": "code",
   "execution_count": 37,
   "id": "57fd66c5",
   "metadata": {},
   "outputs": [
    {
     "name": "stdout",
     "output_type": "stream",
     "text": [
      "Date\n",
      "8      65000\n",
      "11     73000\n",
      "12    128000\n",
      "Name: Sales, dtype: int64\n"
     ]
    }
   ],
   "source": [
    "#groups the data by date (month) then categories\n",
    "df_by_date = df.groupby(df['Date'].dt.month)['Sales'].sum()\n",
    "\n",
    "print(df_by_date)\n",
    "\n",
    "august_sales = df_by_date[8]\n",
    "november_sales = df_by_date[11]\n",
    "december_sales = df_by_date[12]\n"
   ]
  },
  {
   "cell_type": "code",
   "execution_count": 38,
   "id": "15cd6df2",
   "metadata": {},
   "outputs": [
    {
     "name": "stdout",
     "output_type": "stream",
     "text": [
      "Category\n",
      "Beans    15000\n",
      "Rice     50000\n",
      "Name: Sales, dtype: int64\n",
      "August Sales: 65000 | Rice: 15000 | Beans: 50000 | Highest: 40000 | Lowest: 10000 \n",
      " \n",
      "\n",
      "November Sales: 73000 | Rice: 60000 | Beans: 13000 | Highest: 60000 | Lowest: 1000 \n",
      " \n",
      "\n",
      "December Sales: 128000 | Rice: 113000 | Beans: 15000 | Highest: 100000 | Lowest: 13000 \n",
      " \n",
      "\n"
     ]
    }
   ],
   "source": [
    "\n",
    "df_monthly_sales_by_category = df.groupby([df['Date'].dt.month, \"Category\"])['Sales'].sum()\n",
    "\n",
    "max = df.groupby([df['Date'].dt.month])['Sales'].max()\n",
    "\n",
    "min = df.groupby([df['Date'].dt.month])['Sales'].min()\n",
    "\n",
    "print(\"Maximum per month: {}\".format(max))\n",
    "print(\"Minimum per month: {}\".format(min))\n",
    "\n",
    "#handle exception\n",
    "try:\n",
    "    print(df_monthly_sales_by_category[8])\n",
    "except(e):\n",
    "    print(e)\n",
    "    \n",
    "# append output into the text file\n",
    "with open(\"sales_report.txt\", \"a\") as f:\n",
    "    f.write(\"August Sales: {} | Rice: {} | Beans: {} | Highest: {} | Lowest: {} \\n \\n\"\n",
    "      .format(august_sales, df_monthly_sales_by_category[8][0], df_monthly_sales_by_category[8][1],\n",
    "              max[8], min[8]\n",
    "             ))\n",
    "    \n",
    "print(\"August Sales: {} | Rice: {} | Beans: {} | Highest: {} | Lowest: {} \\n \\n\"\n",
    "      .format(august_sales, df_monthly_sales_by_category[8][0], df_monthly_sales_by_category[8][1],\n",
    "              max[8], min[8]\n",
    "             ))\n",
    "\n",
    "# append output into the text file\n",
    "with open(\"sales_report.txt\", \"a\") as f:\n",
    "    f.write(\"November Sales: {} | Rice: {} | Beans: {} | Highest: {} | Lowest: {} \\n \\n\"\n",
    "      .format(november_sales, df_monthly_sales_by_category[11][0], df_monthly_sales_by_category[11][1],\n",
    "              max[11], min[11]\n",
    "             ))\n",
    "\n",
    "print(\"November Sales: {} | Rice: {} | Beans: {} | Highest: {} | Lowest: {} \\n \\n\"\n",
    "      .format(november_sales, df_monthly_sales_by_category[11][0], df_monthly_sales_by_category[11][1],\n",
    "              max[11], min[11]\n",
    "             ))\n",
    "    \n",
    "# append output into the text file\n",
    "with open(\"sales_report.txt\", \"a\") as f:\n",
    "    f.write(\"December Sales: {} | Rice: {} | Beans: {} | Highest: {} | Lowest: {} \\n \\n\"\n",
    "      .format(december_sales, df_monthly_sales_by_category[12][0], df_monthly_sales_by_category[12][1],\n",
    "              max[12], min[12]\n",
    "             ))\n",
    "print(\"December Sales: {} | Rice: {} | Beans: {} | Highest: {} | Lowest: {} \\n \\n\"\n",
    "      .format(december_sales, df_monthly_sales_by_category[12][0], df_monthly_sales_by_category[12][1],\n",
    "              max[12], min[12]\n",
    "             ))"
   ]
  },
  {
   "cell_type": "code",
   "execution_count": 39,
   "id": "3af042bc",
   "metadata": {},
   "outputs": [
    {
     "name": "stdout",
     "output_type": "stream",
     "text": [
      "Average Sales per Month: 88666 \n",
      " \n",
      "\n"
     ]
    }
   ],
   "source": [
    "# get average per month\n",
    "average_sales_per_month = [august_sales, november_sales, december_sales]\n",
    "\n",
    "# append output into the text file\n",
    "with open(\"sales_report.txt\", \"a\") as f:\n",
    "    f.write(\"Average Sales per Month: {} \\n \\n\".format(statistics.mean(average_sales_per_month)))\n",
    "    \n",
    "print(\"Average Sales per Month: {} \\n \\n\".format(statistics.mean(average_sales_per_month)))"
   ]
  },
  {
   "cell_type": "raw",
   "id": "dbf19e5d",
   "metadata": {},
   "source": []
  },
  {
   "cell_type": "code",
   "execution_count": 40,
   "id": "8c8c9e0a",
   "metadata": {},
   "outputs": [
    {
     "name": "stdout",
     "output_type": "stream",
     "text": [
      "Sales by Product Category: \n",
      " \n",
      " Rice: 188000 (70.67669172932331)% \n",
      " \n",
      " Beans: 78000 (29.32330827067669)% \n",
      " \n",
      "\n",
      "Completed generating sales report!\n"
     ]
    }
   ],
   "source": [
    "# get product % for clothes\n",
    "\n",
    "rice = dl_categories[0]\n",
    "beans = dl_categories[1]\n",
    "\n",
    "products_total = rice + beans\n",
    "\n",
    "# append output into the text file\n",
    "with open(\"sales_report.txt\", \"a\") as f:\n",
    "    f.write(\"Sales by Product Category: \\n \\n Rice: {} ({})% \\n \\n Beans: {} ({})% \\n \\n\".format(rice, (rice / products_total) * 100, beans, (beans / products_total) * 100))\n",
    "    \n",
    "print(\"Sales by Product Category: \\n \\n Rice: {} ({})% \\n \\n Beans: {} ({})% \\n \\n\".format(rice, (rice / products_total) * 100, beans, (beans / products_total) * 100))\n",
    "    \n",
    "print(\"Completed generating sales report!\")"
   ]
  },
  {
   "cell_type": "code",
   "execution_count": null,
   "id": "2ca6f625",
   "metadata": {},
   "outputs": [],
   "source": []
  }
 ],
 "metadata": {
  "kernelspec": {
   "display_name": "Python 3 (ipykernel)",
   "language": "python",
   "name": "python3"
  },
  "language_info": {
   "codemirror_mode": {
    "name": "ipython",
    "version": 3
   },
   "file_extension": ".py",
   "mimetype": "text/x-python",
   "name": "python",
   "nbconvert_exporter": "python",
   "pygments_lexer": "ipython3",
   "version": "3.9.13"
  }
 },
 "nbformat": 4,
 "nbformat_minor": 5
}
